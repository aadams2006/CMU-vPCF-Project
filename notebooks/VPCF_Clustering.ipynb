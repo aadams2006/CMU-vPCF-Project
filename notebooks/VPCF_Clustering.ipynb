{
 "cells": [
  {
   "cell_type": "markdown",
   "metadata": {},
   "source": [
    "# Deep Embedded Clustering for VPCF Image Analysis"
   ]
  },
  {
   "cell_type": "markdown",
   "metadata": {},
   "source": [
    "This notebook demonstrates how to use the IDEC algorithm to cluster VPCF images and identify key structural features in ferroelectric materials."
   ]
  },
  {
   "cell_type": "markdown",
   "metadata": {},
   "source": [
    "## 1. Setup"
   ]
  },
  {
   "cell_type": "code",
   "execution_count": null,
   "metadata": {},
   "outputs": [],
   "source": [
    "import sys\n",
    "sys.path.append('../src')\n",
    "from IDEC import IDEC\n",
    "from DEC import autoencoder, ClusteringLayer\n",
    "import metrics\n",
    "import numpy as np\n",
    "import matplotlib.pyplot as plt\n",
    "from keras.optimizers import SGD
"
   ]
  },
  {
   "cell_type": "markdown",
   "metadata": {},
   "source": [
    "## 2. Load Data"
   ]
  },
  {
   "cell_type": "markdown",
   "metadata": {},
   "source": [
    "**TODO:** Load your VPCF image data here. The data should be a numpy array of shape `(n_samples, n_features)`, where `n_features` is the flattened size of your images."
   ]
  },
  {
   "cell_type": "code",
   "execution_count": null,
   "metadata": {},
   "outputs": [],
   "source": [
    "import json\n",
    "import os\n",
    "\n",
    "data_dir = '../data/saved_vpcfs'\n",
    "vpcfs = []\n",
    "for filename in os.listdir(data_dir):\n",
    "    if filename.endswith('.json'):\n",
    "        filepath = os.path.join(data_dir, filename)\n",
    "        with open(filepath, 'r') as f:\n",
    "            data = json.load(f)\n",
    "            for key in data:\n",
    "                vpcfs.extend(data[key]['$array'])\n",
    "\n",
    "x = np.array(vpcfs)\n",
    "print('Data shape:', x.shape)"
   ]
  },
  {
   "cell_type": "markdown",
   "metadata": {},
   "source": [
    "## 3. Define Model"
   ]
  },
  {
   "cell_type": "markdown",
   "metadata": {},
   "source": [
    "The user requested a 4-layer deep autoencoder. The `dims` parameter defines the architecture of the autoencoder. The first element is the input dimension, and the last element is the dimension of the latent space. The decoder will be symmetric to the encoder."
   ]
  },
  {
   "cell_type": "code",
   "execution_count": null,
   "metadata": {},
   "outputs": [],
   "source": [
    "input_dim = x.shape[1]\n",
    "dims = [input_dim, 500, 500, 2000, 10] # 4-layer encoder"
   ]
  },
  {
   "cell_type": "markdown",
   "metadata": {},
   "source": [
    "## 4. Pre-train Autoencoder"
   ]
  },
  {
   "cell_type": "code",
   "execution_count": null,
   "metadata": {},
   "outputs": [],
   "source": [
    "idec = IDEC(dims=dims, n_clusters=4)\n",
    "idec.pretrain(x, epochs=200)"
   ]
  },
  {
   "cell_type": "markdown",
   "metadata": {},
   "source": [
    "## 5. Train IDEC Model"
   ]
  },
  {
   "cell_type": "code",
   "execution_count": null,
   "metadata": {},
   "outputs": [],
   "source": [
    "idec.compile(optimizer=SGD(0.01, 0.9), loss=['kld', 'mse'], loss_weights=[0.1, 1.0])\n",
    "y_pred = idec.fit(x, tol=0.001, maxiter=2e4, update_interval=140)"
   ]
  },
  
 ],
 "metadata": {
  "kernelspec": {
   "display_name": "Python 3",
   "language": "python",
   "name": "python3"
  },
  "language_info": {
   "codemirror_mode": {
    "name": "ipython",
    "version": 3
   },
   "file_extension": ".py",
   "mimetype": "text/x-python",
   "name": "python",
   "nbconvert_exporter": "python",
   "pygments_lexer": "ipython3",
   "version": "3.10.12"
  }
 },
 "nbformat": 4,
 "nbformat_minor": 4
}